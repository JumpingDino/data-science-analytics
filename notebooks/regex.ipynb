{
 "cells": [
  {
   "cell_type": "markdown",
   "metadata": {},
   "source": [
    "A regular expression (or RE) specifies a set of strings that matches it; the functions in this module let you check if a particular string matches a given regular expression (or if a given regular expression matches a particular string, which comes down to the same thing)"
   ]
  },
  {
   "cell_type": "markdown",
   "metadata": {},
   "source": [
    "After the **compile** we need to **match** or **search** , there are two ways equivallent to do it\n",
    "\n",
    "Way I :\n",
    "```\n",
    "prog = re.compile(pattern)\n",
    "result = prog.match(string)\n",
    "```\n",
    "Way II :\n",
    "```\n",
    "result = re.match(pattern, string)\n",
    "```\n",
    "\n",
    "re.search(pattern, string, flags=0) : Scan through string looking for the first location where the regular expression pattern produces a match, and return a corresponding match object. Return None if no position in the string matches the pattern.\n",
    "\n",
    "re.match(pattern, string, flags=0) : If zero or more characters at the beginning of string match the regular expression pattern, return a corresponding match object.\n",
    "\n",
    "re.fullmatch(pattern, string, flags=0) : If the whole string matches the regular expression pattern, return a corresponding match object. Return None if the string does not match the pattern.\n",
    "\n",
    "re.split(pattern, string, maxsplit=0, flags=0) : Split string by the occurrences of pattern. If capturing parentheses are used in pattern, then the text of all groups in the pattern are also returned as part of the resulting list. If maxsplit is nonzero, at most maxsplit splits occur, and the remainder of the string is returned as the final element of the list."
   ]
  },
  {
   "cell_type": "code",
   "execution_count": 42,
   "metadata": {},
   "outputs": [],
   "source": [
    "import re\n",
    "\n",
    "txt = \"The rain in Spain zzzzz The shit in Spain\"\n",
    "x = re.search(\"^The.*Spain$\", txt)"
   ]
  },
  {
   "cell_type": "code",
   "execution_count": 43,
   "metadata": {},
   "outputs": [
    {
     "data": {
      "text/plain": [
       "()"
      ]
     },
     "execution_count": 43,
     "metadata": {},
     "output_type": "execute_result"
    }
   ],
   "source": [
    "x.groups()"
   ]
  },
  {
   "cell_type": "code",
   "execution_count": 44,
   "metadata": {},
   "outputs": [
    {
     "data": {
      "text/plain": [
       "'The rain in Spain zzzzz The shit in Spain'"
      ]
     },
     "execution_count": 44,
     "metadata": {},
     "output_type": "execute_result"
    }
   ],
   "source": [
    "x.group()"
   ]
  }
 ],
 "metadata": {
  "kernelspec": {
   "display_name": "Python 3",
   "language": "python",
   "name": "python3"
  },
  "language_info": {
   "codemirror_mode": {
    "name": "ipython",
    "version": 3
   },
   "file_extension": ".py",
   "mimetype": "text/x-python",
   "name": "python",
   "nbconvert_exporter": "python",
   "pygments_lexer": "ipython3",
   "version": "3.6.5"
  }
 },
 "nbformat": 4,
 "nbformat_minor": 2
}
