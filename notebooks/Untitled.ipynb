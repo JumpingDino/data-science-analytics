{
 "cells": [
  {
   "cell_type": "code",
   "execution_count": 16,
   "metadata": {},
   "outputs": [
    {
     "name": "stdout",
     "output_type": "stream",
     "text": [
      "/home/saraiva/Documentos/GitHub/data-science-analytics/notebooks\n"
     ]
    }
   ],
   "source": [
    "import os\n",
    "print(os.getcwd())\n",
    "\n",
    "import sys\n",
    "sys.path.append('/home/saraiva/Documentos/GitHub/data-science-analytics/utils')"
   ]
  },
  {
   "cell_type": "code",
   "execution_count": 17,
   "metadata": {},
   "outputs": [],
   "source": [
    "from custom_automation import *"
   ]
  },
  {
   "cell_type": "code",
   "execution_count": 18,
   "metadata": {},
   "outputs": [],
   "source": [
    "method_dict_regression ={\n",
    "         \n",
    "           'algo': \n",
    "                   {\n",
    "                    AdaBoostRegressor.__name__ : AdaBoostRegressor,\n",
    "                    BaggingRegressor.__name__ : BaggingRegressor,\n",
    "                    GradientBoostingRegressor.__name__ : GradientBoostingRegressor,\n",
    "                    RandomForestRegressor.__name__ : RandomForestRegressor ,\n",
    "                    XGBoostRegressor.__name__ : XGBoostRegressor,\n",
    "                   },                           \n",
    "          \n",
    "          'eval_metric' : \n",
    "                                 [mean_absolute_error,\n",
    "                                  mean_squared_error,                                  \n",
    "                                  mean_squared_log_error,],\n",
    "                        \n",
    "          'space' : \n",
    "                      {\n",
    "                       AdaBoostRegressor.__name__ : {},\n",
    "                       BaggingRegressor.__name__ : {},\n",
    "                       GradientBoostingRegressor.__name__ : {}, \n",
    "                       RandomForestRegressor.__name__ :\n",
    "                                                    { \n",
    "                                                      'bootstrap' :[True,False], \n",
    "                                                      'max_depth' : list(range(2, 10)),\n",
    "                                                      'max_features' : ['auto','sqrt','log2'],\n",
    "                                                      'min_samples_leaf': list(range(5,20)), \n",
    "                                                      'n_estimators': list(range(30, 300 ,5))\n",
    "                                                    },\n",
    "                       \n",
    "                      XGBoostRegressor.__name__ : {},                                            \n",
    "                      }           \n",
    "                    \n",
    "        }"
   ]
  },
  {
   "cell_type": "code",
   "execution_count": 19,
   "metadata": {
    "scrolled": true
   },
   "outputs": [],
   "source": [
    "my_test = AutomatedRegression(method_dict_regression,mean_absolute_error)"
   ]
  },
  {
   "cell_type": "code",
   "execution_count": 20,
   "metadata": {},
   "outputs": [],
   "source": [
    "from sklearn.datasets import load_boston\n",
    "from pprint import pprint\n",
    "\n",
    "\n",
    "X,y = load_boston(True)\n",
    "data_columns = ['CRIM','ZN','INDUS','CHAS','NOX','RM','AGE','DIS','RAD','TAX','PTRATIO','B','LSTAT','MEDV']\n",
    "df = pd.DataFrame(pd.concat([pd.DataFrame(X),pd.Series(y)],axis=1).values,\n",
    "                            columns = data_columns)"
   ]
  },
  {
   "cell_type": "code",
   "execution_count": 21,
   "metadata": {},
   "outputs": [
    {
     "name": "stdout",
     "output_type": "stream",
     "text": [
      "AdaBoostRegressor\n"
     ]
    },
    {
     "data": {
      "application/vnd.jupyter.widget-view+json": {
       "model_id": "ef413966b1f94f0c9931b0cf7ef8b155",
       "version_major": 2,
       "version_minor": 0
      },
      "text/plain": [
       "HBox(children=(IntProgress(value=0, max=2), HTML(value='')))"
      ]
     },
     "metadata": {},
     "output_type": "display_data"
    },
    {
     "name": "stdout",
     "output_type": "stream",
     "text": [
      "\n"
     ]
    },
    {
     "data": {
      "text/html": [
       "<div>\n",
       "<style scoped>\n",
       "    .dataframe tbody tr th:only-of-type {\n",
       "        vertical-align: middle;\n",
       "    }\n",
       "\n",
       "    .dataframe tbody tr th {\n",
       "        vertical-align: top;\n",
       "    }\n",
       "\n",
       "    .dataframe thead th {\n",
       "        text-align: right;\n",
       "    }\n",
       "</style>\n",
       "<table border=\"1\" class=\"dataframe\">\n",
       "  <thead>\n",
       "    <tr style=\"text-align: right;\">\n",
       "      <th></th>\n",
       "      <th>mean_absolute_error</th>\n",
       "      <th>mean_squared_error</th>\n",
       "      <th>mean_squared_log_error</th>\n",
       "      <th>mean_absolute_error_train</th>\n",
       "      <th>choosen_algo</th>\n",
       "    </tr>\n",
       "  </thead>\n",
       "  <tbody>\n",
       "    <tr>\n",
       "      <th>0</th>\n",
       "      <td>2.853069</td>\n",
       "      <td>16.051805</td>\n",
       "      <td>0.034265</td>\n",
       "      <td>2.127433</td>\n",
       "      <td>AdaBoostRegressor</td>\n",
       "    </tr>\n",
       "    <tr>\n",
       "      <th>1</th>\n",
       "      <td>2.981935</td>\n",
       "      <td>18.433901</td>\n",
       "      <td>0.037786</td>\n",
       "      <td>2.212499</td>\n",
       "      <td>AdaBoostRegressor</td>\n",
       "    </tr>\n",
       "  </tbody>\n",
       "</table>\n",
       "</div>"
      ],
      "text/plain": [
       "   mean_absolute_error        ...               choosen_algo\n",
       "0             2.853069        ...          AdaBoostRegressor\n",
       "1             2.981935        ...          AdaBoostRegressor\n",
       "\n",
       "[2 rows x 5 columns]"
      ]
     },
     "metadata": {},
     "output_type": "display_data"
    },
    {
     "data": {
      "text/html": [
       "<div>\n",
       "<style scoped>\n",
       "    .dataframe tbody tr th:only-of-type {\n",
       "        vertical-align: middle;\n",
       "    }\n",
       "\n",
       "    .dataframe tbody tr th {\n",
       "        vertical-align: top;\n",
       "    }\n",
       "\n",
       "    .dataframe thead th {\n",
       "        text-align: right;\n",
       "    }\n",
       "</style>\n",
       "<table border=\"1\" class=\"dataframe\">\n",
       "  <thead>\n",
       "    <tr style=\"text-align: right;\">\n",
       "      <th></th>\n",
       "      <th>mean_absolute_error</th>\n",
       "      <th>mean_squared_error</th>\n",
       "      <th>mean_squared_log_error</th>\n",
       "      <th>mean_absolute_error_train</th>\n",
       "    </tr>\n",
       "  </thead>\n",
       "  <tbody>\n",
       "    <tr>\n",
       "      <th>count</th>\n",
       "      <td>2.000000</td>\n",
       "      <td>2.000000</td>\n",
       "      <td>2.000000</td>\n",
       "      <td>2.000000</td>\n",
       "    </tr>\n",
       "    <tr>\n",
       "      <th>mean</th>\n",
       "      <td>2.917502</td>\n",
       "      <td>17.242853</td>\n",
       "      <td>0.036026</td>\n",
       "      <td>2.169966</td>\n",
       "    </tr>\n",
       "    <tr>\n",
       "      <th>std</th>\n",
       "      <td>0.091122</td>\n",
       "      <td>1.684396</td>\n",
       "      <td>0.002490</td>\n",
       "      <td>0.060151</td>\n",
       "    </tr>\n",
       "    <tr>\n",
       "      <th>min</th>\n",
       "      <td>2.853069</td>\n",
       "      <td>16.051805</td>\n",
       "      <td>0.034265</td>\n",
       "      <td>2.127433</td>\n",
       "    </tr>\n",
       "    <tr>\n",
       "      <th>25%</th>\n",
       "      <td>2.885286</td>\n",
       "      <td>16.647329</td>\n",
       "      <td>0.035145</td>\n",
       "      <td>2.148700</td>\n",
       "    </tr>\n",
       "    <tr>\n",
       "      <th>50%</th>\n",
       "      <td>2.917502</td>\n",
       "      <td>17.242853</td>\n",
       "      <td>0.036026</td>\n",
       "      <td>2.169966</td>\n",
       "    </tr>\n",
       "    <tr>\n",
       "      <th>75%</th>\n",
       "      <td>2.949719</td>\n",
       "      <td>17.838377</td>\n",
       "      <td>0.036906</td>\n",
       "      <td>2.191233</td>\n",
       "    </tr>\n",
       "    <tr>\n",
       "      <th>max</th>\n",
       "      <td>2.981935</td>\n",
       "      <td>18.433901</td>\n",
       "      <td>0.037786</td>\n",
       "      <td>2.212499</td>\n",
       "    </tr>\n",
       "  </tbody>\n",
       "</table>\n",
       "</div>"
      ],
      "text/plain": [
       "       mean_absolute_error            ...              mean_absolute_error_train\n",
       "count             2.000000            ...                               2.000000\n",
       "mean              2.917502            ...                               2.169966\n",
       "std               0.091122            ...                               0.060151\n",
       "min               2.853069            ...                               2.127433\n",
       "25%               2.885286            ...                               2.148700\n",
       "50%               2.917502            ...                               2.169966\n",
       "75%               2.949719            ...                               2.191233\n",
       "max               2.981935            ...                               2.212499\n",
       "\n",
       "[8 rows x 4 columns]"
      ]
     },
     "metadata": {},
     "output_type": "display_data"
    },
    {
     "name": "stdout",
     "output_type": "stream",
     "text": [
      "The mean of the main metric is : 2.917502205768778\n",
      "The median of the main metric is : 2.917502205768778\n",
      "The standard deviation of the main metric is : 0.09112161887248364\n",
      "Mean + 3*sigma : 3.1908670623862285\n",
      "Mean - 3*sigma : 2.644137349151327\n",
      "The amplitude of the main metric is : 0.12886542923485855\n"
     ]
    },
    {
     "data": {
      "image/png": "[encoded data removed]",
      "text/plain": [
       "<Figure size 720x504 with 1 Axes>"
      ]
     },
     "metadata": {},
     "output_type": "display_data"
    },
    {
     "name": "stdout",
     "output_type": "stream",
     "text": [
      "BaggingRegressor\n"
     ]
    },
    {
     "data": {
      "application/vnd.jupyter.widget-view+json": {
       "model_id": "0a84ca62fe344cdabf2a0da46ec67d29",
       "version_major": 2,
       "version_minor": 0
      },
      "text/plain": [
       "HBox(children=(IntProgress(value=0, max=2), HTML(value='')))"
      ]
     },
     "metadata": {},
     "output_type": "display_data"
    },
    {
     "name": "stdout",
     "output_type": "stream",
     "text": [
      "\n"
     ]
    },
    {
     "data": {
      "text/html": [
       "<div>\n",
       "<style scoped>\n",
       "    .dataframe tbody tr th:only-of-type {\n",
       "        vertical-align: middle;\n",
       "    }\n",
       "\n",
       "    .dataframe tbody tr th {\n",
       "        vertical-align: top;\n",
       "    }\n",
       "\n",
       "    .dataframe thead th {\n",
       "        text-align: right;\n",
       "    }\n",
       "</style>\n",
       "<table border=\"1\" class=\"dataframe\">\n",
       "  <thead>\n",
       "    <tr style=\"text-align: right;\">\n",
       "      <th></th>\n",
       "      <th>mean_absolute_error</th>\n",
       "      <th>mean_squared_error</th>\n",
       "      <th>mean_squared_log_error</th>\n",
       "      <th>mean_absolute_error_train</th>\n",
       "      <th>choosen_algo</th>\n",
       "    </tr>\n",
       "  </thead>\n",
       "  <tbody>\n",
       "    <tr>\n",
       "      <th>0</th>\n",
       "      <td>2.310692</td>\n",
       "      <td>11.656729</td>\n",
       "      <td>0.025428</td>\n",
       "      <td>1.119447</td>\n",
       "      <td>BaggingRegressor</td>\n",
       "    </tr>\n",
       "    <tr>\n",
       "      <th>1</th>\n",
       "      <td>2.454901</td>\n",
       "      <td>13.790944</td>\n",
       "      <td>0.026362</td>\n",
       "      <td>1.040613</td>\n",
       "      <td>BaggingRegressor</td>\n",
       "    </tr>\n",
       "  </tbody>\n",
       "</table>\n",
       "</div>"
      ],
      "text/plain": [
       "   mean_absolute_error        ...             choosen_algo\n",
       "0             2.310692        ...         BaggingRegressor\n",
       "1             2.454901        ...         BaggingRegressor\n",
       "\n",
       "[2 rows x 5 columns]"
      ]
     },
     "metadata": {},
     "output_type": "display_data"
    },
    {
     "data": {
      "text/html": [
       "<div>\n",
       "<style scoped>\n",
       "    .dataframe tbody tr th:only-of-type {\n",
       "        vertical-align: middle;\n",
       "    }\n",
       "\n",
       "    .dataframe tbody tr th {\n",
       "        vertical-align: top;\n",
       "    }\n",
       "\n",
       "    .dataframe thead th {\n",
       "        text-align: right;\n",
       "    }\n",
       "</style>\n",
       "<table border=\"1\" class=\"dataframe\">\n",
       "  <thead>\n",
       "    <tr style=\"text-align: right;\">\n",
       "      <th></th>\n",
       "      <th>mean_absolute_error</th>\n",
       "      <th>mean_squared_error</th>\n",
       "      <th>mean_squared_log_error</th>\n",
       "      <th>mean_absolute_error_train</th>\n",
       "    </tr>\n",
       "  </thead>\n",
       "  <tbody>\n",
       "    <tr>\n",
       "      <th>count</th>\n",
       "      <td>2.000000</td>\n",
       "      <td>2.000000</td>\n",
       "      <td>2.000000</td>\n",
       "      <td>2.000000</td>\n",
       "    </tr>\n",
       "    <tr>\n",
       "      <th>mean</th>\n",
       "      <td>2.382796</td>\n",
       "      <td>12.723837</td>\n",
       "      <td>0.025895</td>\n",
       "      <td>1.080030</td>\n",
       "    </tr>\n",
       "    <tr>\n",
       "      <th>std</th>\n",
       "      <td>0.101972</td>\n",
       "      <td>1.509118</td>\n",
       "      <td>0.000661</td>\n",
       "      <td>0.055744</td>\n",
       "    </tr>\n",
       "    <tr>\n",
       "      <th>min</th>\n",
       "      <td>2.310692</td>\n",
       "      <td>11.656729</td>\n",
       "      <td>0.025428</td>\n",
       "      <td>1.040613</td>\n",
       "    </tr>\n",
       "    <tr>\n",
       "      <th>25%</th>\n",
       "      <td>2.346744</td>\n",
       "      <td>12.190283</td>\n",
       "      <td>0.025661</td>\n",
       "      <td>1.060321</td>\n",
       "    </tr>\n",
       "    <tr>\n",
       "      <th>50%</th>\n",
       "      <td>2.382796</td>\n",
       "      <td>12.723837</td>\n",
       "      <td>0.025895</td>\n",
       "      <td>1.080030</td>\n",
       "    </tr>\n",
       "    <tr>\n",
       "      <th>75%</th>\n",
       "      <td>2.418849</td>\n",
       "      <td>13.257390</td>\n",
       "      <td>0.026128</td>\n",
       "      <td>1.099738</td>\n",
       "    </tr>\n",
       "    <tr>\n",
       "      <th>max</th>\n",
       "      <td>2.454901</td>\n",
       "      <td>13.790944</td>\n",
       "      <td>0.026362</td>\n",
       "      <td>1.119447</td>\n",
       "    </tr>\n",
       "  </tbody>\n",
       "</table>\n",
       "</div>"
      ],
      "text/plain": [
       "       mean_absolute_error            ...              mean_absolute_error_train\n",
       "count             2.000000            ...                               2.000000\n",
       "mean              2.382796            ...                               1.080030\n",
       "std               0.101972            ...                               0.055744\n",
       "min               2.310692            ...                               1.040613\n",
       "25%               2.346744            ...                               1.060321\n",
       "50%               2.382796            ...                               1.080030\n",
       "75%               2.418849            ...                               1.099738\n",
       "max               2.454901            ...                               1.119447\n",
       "\n",
       "[8 rows x 4 columns]"
      ]
     },
     "metadata": {},
     "output_type": "display_data"
    },
    {
     "name": "stdout",
     "output_type": "stream",
     "text": [
      "The mean of the main metric is : 2.382796442687747\n",
      "The median of the main metric is : 2.382796442687747\n",
      "The standard deviation of the main metric is : 0.10197150557941213\n",
      "Mean + 3*sigma : 2.688710959425983\n",
      "Mean - 3*sigma : 2.0768819259495106\n",
      "The amplitude of the main metric is : 0.14420948616600837\n"
     ]
    },
    {
     "data": {
      "image/png": "[encoded data removed]",
      "text/plain": [
       "<Figure size 720x504 with 1 Axes>"
      ]
     },
     "metadata": {},
     "output_type": "display_data"
    },
    {
     "name": "stdout",
     "output_type": "stream",
     "text": [
      "GradientBoostingRegressor\n"
     ]
    },
    {
     "data": {
      "application/vnd.jupyter.widget-view+json": {
       "model_id": "729fc1e6f2104084a5f494735ff78aa9",
       "version_major": 2,
       "version_minor": 0
      },
      "text/plain": [
       "HBox(children=(IntProgress(value=0, max=2), HTML(value='')))"
      ]
     },
     "metadata": {},
     "output_type": "display_data"
    },
    {
     "name": "stdout",
     "output_type": "stream",
     "text": [
      "\n"
     ]
    },
    {
     "data": {
      "text/html": [
       "<div>\n",
       "<style scoped>\n",
       "    .dataframe tbody tr th:only-of-type {\n",
       "        vertical-align: middle;\n",
       "    }\n",
       "\n",
       "    .dataframe tbody tr th {\n",
       "        vertical-align: top;\n",
       "    }\n",
       "\n",
       "    .dataframe thead th {\n",
       "        text-align: right;\n",
       "    }\n",
       "</style>\n",
       "<table border=\"1\" class=\"dataframe\">\n",
       "  <thead>\n",
       "    <tr style=\"text-align: right;\">\n",
       "      <th></th>\n",
       "      <th>mean_absolute_error</th>\n",
       "      <th>mean_squared_error</th>\n",
       "      <th>mean_squared_log_error</th>\n",
       "      <th>mean_absolute_error_train</th>\n",
       "      <th>choosen_algo</th>\n",
       "    </tr>\n",
       "  </thead>\n",
       "  <tbody>\n",
       "    <tr>\n",
       "      <th>1</th>\n",
       "      <td>2.310458</td>\n",
       "      <td>11.840037</td>\n",
       "      <td>0.022469</td>\n",
       "      <td>0.833528</td>\n",
       "      <td>GradientBoostingRegressor</td>\n",
       "    </tr>\n",
       "    <tr>\n",
       "      <th>0</th>\n",
       "      <td>2.323844</td>\n",
       "      <td>13.414216</td>\n",
       "      <td>0.022397</td>\n",
       "      <td>0.805845</td>\n",
       "      <td>GradientBoostingRegressor</td>\n",
       "    </tr>\n",
       "  </tbody>\n",
       "</table>\n",
       "</div>"
      ],
      "text/plain": [
       "   mean_absolute_error            ...                           choosen_algo\n",
       "1             2.310458            ...              GradientBoostingRegressor\n",
       "0             2.323844            ...              GradientBoostingRegressor\n",
       "\n",
       "[2 rows x 5 columns]"
      ]
     },
     "metadata": {},
     "output_type": "display_data"
    },
    {
     "data": {
      "text/html": [
       "<div>\n",
       "<style scoped>\n",
       "    .dataframe tbody tr th:only-of-type {\n",
       "        vertical-align: middle;\n",
       "    }\n",
       "\n",
       "    .dataframe tbody tr th {\n",
       "        vertical-align: top;\n",
       "    }\n",
       "\n",
       "    .dataframe thead th {\n",
       "        text-align: right;\n",
       "    }\n",
       "</style>\n",
       "<table border=\"1\" class=\"dataframe\">\n",
       "  <thead>\n",
       "    <tr style=\"text-align: right;\">\n",
       "      <th></th>\n",
       "      <th>mean_absolute_error</th>\n",
       "      <th>mean_squared_error</th>\n",
       "      <th>mean_squared_log_error</th>\n",
       "      <th>mean_absolute_error_train</th>\n",
       "    </tr>\n",
       "  </thead>\n",
       "  <tbody>\n",
       "    <tr>\n",
       "      <th>count</th>\n",
       "      <td>2.000000</td>\n",
       "      <td>2.000000</td>\n",
       "      <td>2.000000</td>\n",
       "      <td>2.000000</td>\n",
       "    </tr>\n",
       "    <tr>\n",
       "      <th>mean</th>\n",
       "      <td>2.317151</td>\n",
       "      <td>12.627127</td>\n",
       "      <td>0.022433</td>\n",
       "      <td>0.819687</td>\n",
       "    </tr>\n",
       "    <tr>\n",
       "      <th>std</th>\n",
       "      <td>0.009466</td>\n",
       "      <td>1.113112</td>\n",
       "      <td>0.000051</td>\n",
       "      <td>0.019575</td>\n",
       "    </tr>\n",
       "    <tr>\n",
       "      <th>min</th>\n",
       "      <td>2.310458</td>\n",
       "      <td>11.840037</td>\n",
       "      <td>0.022397</td>\n",
       "      <td>0.805845</td>\n",
       "    </tr>\n",
       "    <tr>\n",
       "      <th>25%</th>\n",
       "      <td>2.313805</td>\n",
       "      <td>12.233582</td>\n",
       "      <td>0.022415</td>\n",
       "      <td>0.812766</td>\n",
       "    </tr>\n",
       "    <tr>\n",
       "      <th>50%</th>\n",
       "      <td>2.317151</td>\n",
       "      <td>12.627127</td>\n",
       "      <td>0.022433</td>\n",
       "      <td>0.819687</td>\n",
       "    </tr>\n",
       "    <tr>\n",
       "      <th>75%</th>\n",
       "      <td>2.320498</td>\n",
       "      <td>13.020671</td>\n",
       "      <td>0.022451</td>\n",
       "      <td>0.826607</td>\n",
       "    </tr>\n",
       "    <tr>\n",
       "      <th>max</th>\n",
       "      <td>2.323844</td>\n",
       "      <td>13.414216</td>\n",
       "      <td>0.022469</td>\n",
       "      <td>0.833528</td>\n",
       "    </tr>\n",
       "  </tbody>\n",
       "</table>\n",
       "</div>"
      ],
      "text/plain": [
       "       mean_absolute_error            ...              mean_absolute_error_train\n",
       "count             2.000000            ...                               2.000000\n",
       "mean              2.317151            ...                               0.819687\n",
       "std               0.009466            ...                               0.019575\n",
       "min               2.310458            ...                               0.805845\n",
       "25%               2.313805            ...                               0.812766\n",
       "50%               2.317151            ...                               0.819687\n",
       "75%               2.320498            ...                               0.826607\n",
       "max               2.323844            ...                               0.833528\n",
       "\n",
       "[8 rows x 4 columns]"
      ]
     },
     "metadata": {},
     "output_type": "display_data"
    },
    {
     "name": "stdout",
     "output_type": "stream",
     "text": [
      "The mean of the main metric is : 2.3171511072958992\n",
      "The median of the main metric is : 2.3171511072958992\n",
      "The standard deviation of the main metric is : 0.009465632612236284\n",
      "Mean + 3*sigma : 2.345548005132608\n",
      "Mean - 3*sigma : 2.2887542094591904\n",
      "The amplitude of the main metric is : 0.01338642601666562\n"
     ]
    },
    {
     "data": {
      "image/png": "[encoded data removed]",
      "text/plain": [
       "<Figure size 720x504 with 1 Axes>"
      ]
     },
     "metadata": {},
     "output_type": "display_data"
    },
    {
     "name": "stdout",
     "output_type": "stream",
     "text": [
      "RandomForestRegressor\n"
     ]
    },
    {
     "data": {
      "application/vnd.jupyter.widget-view+json": {
       "model_id": "502239d785b44fd7876ef920cf35ad3e",
       "version_major": 2,
       "version_minor": 0
      },
      "text/plain": [
       "HBox(children=(IntProgress(value=0, max=2), HTML(value='')))"
      ]
     },
     "metadata": {},
     "output_type": "display_data"
    },
    {
     "name": "stdout",
     "output_type": "stream",
     "text": [
      "\n"
     ]
    },
    {
     "data": {
      "text/html": [
       "<div>\n",
       "<style scoped>\n",
       "    .dataframe tbody tr th:only-of-type {\n",
       "        vertical-align: middle;\n",
       "    }\n",
       "\n",
       "    .dataframe tbody tr th {\n",
       "        vertical-align: top;\n",
       "    }\n",
       "\n",
       "    .dataframe thead th {\n",
       "        text-align: right;\n",
       "    }\n",
       "</style>\n",
       "<table border=\"1\" class=\"dataframe\">\n",
       "  <thead>\n",
       "    <tr style=\"text-align: right;\">\n",
       "      <th></th>\n",
       "      <th>bootstrap</th>\n",
       "      <th>max_depth</th>\n",
       "      <th>max_features</th>\n",
       "      <th>min_samples_leaf</th>\n",
       "      <th>n_estimators</th>\n",
       "      <th>mean_absolute_error</th>\n",
       "      <th>mean_squared_error</th>\n",
       "      <th>mean_squared_log_error</th>\n",
       "      <th>mean_absolute_error_train</th>\n",
       "      <th>choosen_algo</th>\n",
       "    </tr>\n",
       "  </thead>\n",
       "  <tbody>\n",
       "    <tr>\n",
       "      <th>0</th>\n",
       "      <td>False</td>\n",
       "      <td>9</td>\n",
       "      <td>auto</td>\n",
       "      <td>8</td>\n",
       "      <td>145</td>\n",
       "      <td>3.241374</td>\n",
       "      <td>25.000792</td>\n",
       "      <td>0.044497</td>\n",
       "      <td>2.059084</td>\n",
       "      <td>RandomForestRegressor</td>\n",
       "    </tr>\n",
       "    <tr>\n",
       "      <th>1</th>\n",
       "      <td>True</td>\n",
       "      <td>3</td>\n",
       "      <td>sqrt</td>\n",
       "      <td>13</td>\n",
       "      <td>220</td>\n",
       "      <td>3.347828</td>\n",
       "      <td>26.483700</td>\n",
       "      <td>0.045872</td>\n",
       "      <td>3.075199</td>\n",
       "      <td>RandomForestRegressor</td>\n",
       "    </tr>\n",
       "  </tbody>\n",
       "</table>\n",
       "</div>"
      ],
      "text/plain": [
       "   bootstrap          ...                     choosen_algo\n",
       "0      False          ...            RandomForestRegressor\n",
       "1       True          ...            RandomForestRegressor\n",
       "\n",
       "[2 rows x 10 columns]"
      ]
     },
     "metadata": {},
     "output_type": "display_data"
    },
    {
     "data": {
      "text/html": [
       "<div>\n",
       "<style scoped>\n",
       "    .dataframe tbody tr th:only-of-type {\n",
       "        vertical-align: middle;\n",
       "    }\n",
       "\n",
       "    .dataframe tbody tr th {\n",
       "        vertical-align: top;\n",
       "    }\n",
       "\n",
       "    .dataframe thead th {\n",
       "        text-align: right;\n",
       "    }\n",
       "</style>\n",
       "<table border=\"1\" class=\"dataframe\">\n",
       "  <thead>\n",
       "    <tr style=\"text-align: right;\">\n",
       "      <th></th>\n",
       "      <th>max_depth</th>\n",
       "      <th>min_samples_leaf</th>\n",
       "      <th>n_estimators</th>\n",
       "      <th>mean_absolute_error</th>\n",
       "      <th>mean_squared_error</th>\n",
       "      <th>mean_squared_log_error</th>\n",
       "      <th>mean_absolute_error_train</th>\n",
       "    </tr>\n",
       "  </thead>\n",
       "  <tbody>\n",
       "    <tr>\n",
       "      <th>count</th>\n",
       "      <td>2.000000</td>\n",
       "      <td>2.000000</td>\n",
       "      <td>2.000000</td>\n",
       "      <td>2.000000</td>\n",
       "      <td>2.000000</td>\n",
       "      <td>2.000000</td>\n",
       "      <td>2.000000</td>\n",
       "    </tr>\n",
       "    <tr>\n",
       "      <th>mean</th>\n",
       "      <td>6.000000</td>\n",
       "      <td>10.500000</td>\n",
       "      <td>182.500000</td>\n",
       "      <td>3.294601</td>\n",
       "      <td>25.742246</td>\n",
       "      <td>0.045184</td>\n",
       "      <td>2.567141</td>\n",
       "    </tr>\n",
       "    <tr>\n",
       "      <th>std</th>\n",
       "      <td>4.242641</td>\n",
       "      <td>3.535534</td>\n",
       "      <td>53.033009</td>\n",
       "      <td>0.075275</td>\n",
       "      <td>1.048575</td>\n",
       "      <td>0.000972</td>\n",
       "      <td>0.718502</td>\n",
       "    </tr>\n",
       "    <tr>\n",
       "      <th>min</th>\n",
       "      <td>3.000000</td>\n",
       "      <td>8.000000</td>\n",
       "      <td>145.000000</td>\n",
       "      <td>3.241374</td>\n",
       "      <td>25.000792</td>\n",
       "      <td>0.044497</td>\n",
       "      <td>2.059084</td>\n",
       "    </tr>\n",
       "    <tr>\n",
       "      <th>25%</th>\n",
       "      <td>4.500000</td>\n",
       "      <td>9.250000</td>\n",
       "      <td>163.750000</td>\n",
       "      <td>3.267987</td>\n",
       "      <td>25.371519</td>\n",
       "      <td>0.044841</td>\n",
       "      <td>2.313113</td>\n",
       "    </tr>\n",
       "    <tr>\n",
       "      <th>50%</th>\n",
       "      <td>6.000000</td>\n",
       "      <td>10.500000</td>\n",
       "      <td>182.500000</td>\n",
       "      <td>3.294601</td>\n",
       "      <td>25.742246</td>\n",
       "      <td>0.045184</td>\n",
       "      <td>2.567141</td>\n",
       "    </tr>\n",
       "    <tr>\n",
       "      <th>75%</th>\n",
       "      <td>7.500000</td>\n",
       "      <td>11.750000</td>\n",
       "      <td>201.250000</td>\n",
       "      <td>3.321214</td>\n",
       "      <td>26.112973</td>\n",
       "      <td>0.045528</td>\n",
       "      <td>2.821170</td>\n",
       "    </tr>\n",
       "    <tr>\n",
       "      <th>max</th>\n",
       "      <td>9.000000</td>\n",
       "      <td>13.000000</td>\n",
       "      <td>220.000000</td>\n",
       "      <td>3.347828</td>\n",
       "      <td>26.483700</td>\n",
       "      <td>0.045872</td>\n",
       "      <td>3.075199</td>\n",
       "    </tr>\n",
       "  </tbody>\n",
       "</table>\n",
       "</div>"
      ],
      "text/plain": [
       "       max_depth            ...              mean_absolute_error_train\n",
       "count   2.000000            ...                               2.000000\n",
       "mean    6.000000            ...                               2.567141\n",
       "std     4.242641            ...                               0.718502\n",
       "min     3.000000            ...                               2.059084\n",
       "25%     4.500000            ...                               2.313113\n",
       "50%     6.000000            ...                               2.567141\n",
       "75%     7.500000            ...                               2.821170\n",
       "max     9.000000            ...                               3.075199\n",
       "\n",
       "[8 rows x 7 columns]"
      ]
     },
     "metadata": {},
     "output_type": "display_data"
    },
    {
     "name": "stdout",
     "output_type": "stream",
     "text": [
      "The mean of the main metric is : 3.294600733137158\n",
      "The median of the main metric is : 3.294600733137158\n",
      "The standard deviation of the main metric is : 0.07527455959582906\n",
      "Mean + 3*sigma : 3.5204244119246453\n",
      "Mean - 3*sigma : 3.068777054349671\n",
      "The amplitude of the main metric is : 0.10645430308208326\n"
     ]
    },
    {
     "data": {
      "image/png": "[encoded data removed]",
      "text/plain": [
       "<Figure size 720x504 with 1 Axes>"
      ]
     },
     "metadata": {},
     "output_type": "display_data"
    },
    {
     "name": "stdout",
     "output_type": "stream",
     "text": [
      "XGBRegressor\n"
     ]
    },
    {
     "data": {
      "application/vnd.jupyter.widget-view+json": {
       "model_id": "0b180584e9644891864bc33f1564a904",
       "version_major": 2,
       "version_minor": 0
      },
      "text/plain": [
       "HBox(children=(IntProgress(value=0, max=2), HTML(value='')))"
      ]
     },
     "metadata": {},
     "output_type": "display_data"
    },
    {
     "name": "stdout",
     "output_type": "stream",
     "text": [
      "\n"
     ]
    },
    {
     "data": {
      "text/html": [
       "<div>\n",
       "<style scoped>\n",
       "    .dataframe tbody tr th:only-of-type {\n",
       "        vertical-align: middle;\n",
       "    }\n",
       "\n",
       "    .dataframe tbody tr th {\n",
       "        vertical-align: top;\n",
       "    }\n",
       "\n",
       "    .dataframe thead th {\n",
       "        text-align: right;\n",
       "    }\n",
       "</style>\n",
       "<table border=\"1\" class=\"dataframe\">\n",
       "  <thead>\n",
       "    <tr style=\"text-align: right;\">\n",
       "      <th></th>\n",
       "      <th>mean_absolute_error</th>\n",
       "      <th>mean_squared_error</th>\n",
       "      <th>mean_squared_log_error</th>\n",
       "      <th>mean_absolute_error_train</th>\n",
       "      <th>choosen_algo</th>\n",
       "    </tr>\n",
       "  </thead>\n",
       "  <tbody>\n",
       "    <tr>\n",
       "      <th>0</th>\n",
       "      <td>2.352069</td>\n",
       "      <td>13.718655</td>\n",
       "      <td>0.023808</td>\n",
       "      <td>0.928933</td>\n",
       "      <td>XGBRegressor</td>\n",
       "    </tr>\n",
       "    <tr>\n",
       "      <th>1</th>\n",
       "      <td>2.353936</td>\n",
       "      <td>12.475305</td>\n",
       "      <td>0.023001</td>\n",
       "      <td>0.917825</td>\n",
       "      <td>XGBRegressor</td>\n",
       "    </tr>\n",
       "  </tbody>\n",
       "</table>\n",
       "</div>"
      ],
      "text/plain": [
       "   mean_absolute_error      ...       choosen_algo\n",
       "0             2.352069      ...       XGBRegressor\n",
       "1             2.353936      ...       XGBRegressor\n",
       "\n",
       "[2 rows x 5 columns]"
      ]
     },
     "metadata": {},
     "output_type": "display_data"
    },
    {
     "data": {
      "text/html": [
       "<div>\n",
       "<style scoped>\n",
       "    .dataframe tbody tr th:only-of-type {\n",
       "        vertical-align: middle;\n",
       "    }\n",
       "\n",
       "    .dataframe tbody tr th {\n",
       "        vertical-align: top;\n",
       "    }\n",
       "\n",
       "    .dataframe thead th {\n",
       "        text-align: right;\n",
       "    }\n",
       "</style>\n",
       "<table border=\"1\" class=\"dataframe\">\n",
       "  <thead>\n",
       "    <tr style=\"text-align: right;\">\n",
       "      <th></th>\n",
       "      <th>mean_absolute_error</th>\n",
       "      <th>mean_squared_error</th>\n",
       "      <th>mean_squared_log_error</th>\n",
       "      <th>mean_absolute_error_train</th>\n",
       "    </tr>\n",
       "  </thead>\n",
       "  <tbody>\n",
       "    <tr>\n",
       "      <th>count</th>\n",
       "      <td>2.000000</td>\n",
       "      <td>2.000000</td>\n",
       "      <td>2.000000</td>\n",
       "      <td>2.000000</td>\n",
       "    </tr>\n",
       "    <tr>\n",
       "      <th>mean</th>\n",
       "      <td>2.353003</td>\n",
       "      <td>13.096980</td>\n",
       "      <td>0.023405</td>\n",
       "      <td>0.923379</td>\n",
       "    </tr>\n",
       "    <tr>\n",
       "      <th>std</th>\n",
       "      <td>0.001320</td>\n",
       "      <td>0.879181</td>\n",
       "      <td>0.000571</td>\n",
       "      <td>0.007855</td>\n",
       "    </tr>\n",
       "    <tr>\n",
       "      <th>min</th>\n",
       "      <td>2.352069</td>\n",
       "      <td>12.475305</td>\n",
       "      <td>0.023001</td>\n",
       "      <td>0.917825</td>\n",
       "    </tr>\n",
       "    <tr>\n",
       "      <th>25%</th>\n",
       "      <td>2.352536</td>\n",
       "      <td>12.786142</td>\n",
       "      <td>0.023203</td>\n",
       "      <td>0.920602</td>\n",
       "    </tr>\n",
       "    <tr>\n",
       "      <th>50%</th>\n",
       "      <td>2.353003</td>\n",
       "      <td>13.096980</td>\n",
       "      <td>0.023405</td>\n",
       "      <td>0.923379</td>\n",
       "    </tr>\n",
       "    <tr>\n",
       "      <th>75%</th>\n",
       "      <td>2.353469</td>\n",
       "      <td>13.407817</td>\n",
       "      <td>0.023606</td>\n",
       "      <td>0.926156</td>\n",
       "    </tr>\n",
       "    <tr>\n",
       "      <th>max</th>\n",
       "      <td>2.353936</td>\n",
       "      <td>13.718655</td>\n",
       "      <td>0.023808</td>\n",
       "      <td>0.928933</td>\n",
       "    </tr>\n",
       "  </tbody>\n",
       "</table>\n",
       "</div>"
      ],
      "text/plain": [
       "       mean_absolute_error            ...              mean_absolute_error_train\n",
       "count             2.000000            ...                               2.000000\n",
       "mean              2.353003            ...                               0.923379\n",
       "std               0.001320            ...                               0.007855\n",
       "min               2.352069            ...                               0.917825\n",
       "25%               2.352536            ...                               0.920602\n",
       "50%               2.353003            ...                               0.923379\n",
       "75%               2.353469            ...                               0.926156\n",
       "max               2.353936            ...                               0.928933\n",
       "\n",
       "[8 rows x 4 columns]"
      ]
     },
     "metadata": {},
     "output_type": "display_data"
    },
    {
     "name": "stdout",
     "output_type": "stream",
     "text": [
      "The mean of the main metric is : 2.353002780039791\n",
      "The median of the main metric is : 2.353002780039791\n",
      "The standard deviation of the main metric is : 0.0013199649303291127\n",
      "Mean + 3*sigma : 2.356962674830778\n",
      "Mean - 3*sigma : 2.349042885248804\n",
      "The amplitude of the main metric is : 0.0018667123063282887\n"
     ]
    },
    {
     "data": {
      "image/png": "[encoded data removed]",
      "text/plain": [
       "<Figure size 720x504 with 1 Axes>"
      ]
     },
     "metadata": {},
     "output_type": "display_data"
    }
   ],
   "source": [
    "my_test.info_full_reports(X,y,2,2)\n",
    "my_test.auto_full_reports()"
   ]
  },
  {
   "cell_type": "code",
   "execution_count": null,
   "metadata": {},
   "outputs": [],
   "source": []
  }
 ],
 "metadata": {
  "kernelspec": {
   "display_name": "Python 3",
   "language": "python",
   "name": "python3"
  },
  "language_info": {
   "codemirror_mode": {
    "name": "ipython",
    "version": 3
   },
   "file_extension": ".py",
   "mimetype": "text/x-python",
   "name": "python",
   "nbconvert_exporter": "python",
   "pygments_lexer": "ipython3",
   "version": "3.6.5"
  }
 },
 "nbformat": 4,
 "nbformat_minor": 2
}
