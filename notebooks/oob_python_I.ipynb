{
 "cells": [
  {
   "cell_type": "markdown",
   "metadata": {},
   "source": [
    "This study is based on a article written by : **Daksh**"
   ]
  },
  {
   "cell_type": "markdown",
   "metadata": {},
   "source": [
    "#### What is a class? \n",
    "A class defines the blueprint, which can be instantiated to create Object(s)"
   ]
  },
  {
   "cell_type": "code",
   "execution_count": 3,
   "metadata": {},
   "outputs": [],
   "source": [
    "class PostalAddress:\n",
    "    pass\n",
    "\n",
    "cP1 = PostalAddress()\n",
    "\n",
    "# Create an Instance for person ABC\n",
    "cP1.name = \"ABC\"\n",
    "cP1.street = \"Central Street - 1\"\n",
    "\n",
    "cP2 = PostalAddress()\n",
    "\n",
    "# Create an Instance for person DEF\n",
    "cP2.name = \"DEF\"\n",
    "cP2.street = \"Central Street - 2\""
   ]
  },
  {
   "cell_type": "markdown",
   "metadata": {},
   "source": [
    "This doesn’t mean that Python stores the objects as dictionaries.<br>\n",
    "We can safely conclude that Dictionaries can also represent static state objects -> instances.\n",
    "\n",
    "\n",
    "Class not only provides the capability of adding behaviours (thereby allows changing the state of objects), but also provide additional functionalities which helps programmers in managing the objects in easy and maintainable way.\n",
    "\n",
    "**Advantage os classes **: define the blueprint so that every object of the same type has the same characteristics."
   ]
  },
  {
   "cell_type": "markdown",
   "metadata": {},
   "source": [
    "`__init__` is also called a constructor function\n",
    "\n",
    "It means the moment we instanciate a class, everything insithe the construtor method will be automatically run.\n",
    "\n",
    "It’s inside this `__init__` function, we create local instance variables which define the state of the object built out of this class."
   ]
  },
  {
   "cell_type": "code",
   "execution_count": 7,
   "metadata": {},
   "outputs": [
    {
     "name": "stdout",
     "output_type": "stream",
     "text": [
      "{'name': 'ABC', 'street': 'Central Street - 1'}\n"
     ]
    }
   ],
   "source": [
    "class PostalAddress:\n",
    "  def __init__(self):\n",
    "    self.name = \"ABC\"\n",
    "    self.street = \"Central Street - 1\"\n",
    "\n",
    "cP1 = PostalAddress()\n",
    "print(cP1.__dict__)"
   ]
  },
  {
   "cell_type": "markdown",
   "metadata": {},
   "source": [
    "**self is a reference to itself**"
   ]
  },
  {
   "cell_type": "markdown",
   "metadata": {},
   "source": [
    "Just like __init__ function, all functions take self as a mandatory parameter. However, when we call the function, we do not pass any parameter to it because python takes the object instance as self automatically.\n",
    "\n"
   ]
  },
  {
   "cell_type": "code",
   "execution_count": 8,
   "metadata": {},
   "outputs": [
    {
     "name": "stdout",
     "output_type": "stream",
     "text": [
      "Name =>  ABC   Street => Centeral Street - 1\n"
     ]
    }
   ],
   "source": [
    "class PostalAddress:\n",
    "    def __init__(self):\n",
    "        self.name = \"ABC\"\n",
    "        self.street = \"Centeral Street - 1\"\n",
    "    def prnInfo(self):\n",
    "        print(\"Name => \", self.name, \"  Street =>\", self.street)\n",
    "\n",
    "cP1 = PostalAddress()\n",
    "cP1.prnInfo()"
   ]
  },
  {
   "cell_type": "markdown",
   "metadata": {},
   "source": [
    "We can also call the functions using the class instead of an object, however, if we want to call the method via the class we need to explicitly pass the instance, i.e self, because when we call the instance via class, Python doesn’t know which instance to take as self.\n",
    "\n",
    "The call using class shall look like:"
   ]
  },
  {
   "cell_type": "code",
   "execution_count": 10,
   "metadata": {},
   "outputs": [
    {
     "name": "stdout",
     "output_type": "stream",
     "text": [
      "Name =>  ABC   Street => Centeral Street - 1\n",
      "Name =>  ABC   Street => Centeral Street - 1\n"
     ]
    }
   ],
   "source": [
    "cP1 = PostalAddress()\n",
    "# Calling the function using class, we provide the instance\n",
    "PostalAddress.prnInfo(cP1)\n",
    "# This is same as\n",
    "cP1.prnInfo()"
   ]
  },
  {
   "cell_type": "markdown",
   "metadata": {},
   "source": [
    "### Parametrised ``__init__ ``"
   ]
  },
  {
   "cell_type": "code",
   "execution_count": 12,
   "metadata": {},
   "outputs": [
    {
     "name": "stdout",
     "output_type": "stream",
     "text": [
      "Name =>  ABC   Street => Central Street - 1\n",
      "Name =>  DEF   Street => Central Street - 2\n"
     ]
    }
   ],
   "source": [
    "# Parametrized __init__ so we can take the name and street as inout parameter\n",
    "class PostalAddress:\n",
    "    def __init__(self, name, street):\n",
    "        self.name = name\n",
    "        self.street = street\n",
    "    def prnInfo(self):\n",
    "        print(\"Name => \", self.name, \"  Street =>\", self.street)\n",
    "\n",
    "cP1 = PostalAddress(\"ABC\", \"Central Street - 1\")\n",
    "cP1.prnInfo()\n",
    "cP2 = PostalAddress(\"DEF\", \"Central Street - 2\")\n",
    "cP2.prnInfo()"
   ]
  },
  {
   "cell_type": "code",
   "execution_count": 19,
   "metadata": {},
   "outputs": [
    {
     "name": "stdout",
     "output_type": "stream",
     "text": [
      "{'name': 'Default Name', 'street': 'Central Street - 1'}\n",
      "{'name': 'ABC', 'street': 'Central Street - 1'}\n",
      "{'name': 'DEF', 'street': 'Central Street - 2'}\n"
     ]
    }
   ],
   "source": [
    "class PostalAddress:\n",
    "  def __init__(self, name = \"Default Name\", street = \"Central Street - 1\"):\n",
    "    self.name = name\n",
    "    self.street = street\n",
    "\n",
    "cP0 = PostalAddress();                          \n",
    "cP1 = PostalAddress(\"ABC\")                       \n",
    "cP2 = PostalAddress(\"DEF\", \"Central Street - 2\") \n",
    "\n",
    "print(cP0.__dict__)\n",
    "print(cP1.__dict__)\n",
    "print(cP2.__dict__)"
   ]
  },
  {
   "cell_type": "code",
   "execution_count": 18,
   "metadata": {},
   "outputs": [
    {
     "name": "stdout",
     "output_type": "stream",
     "text": [
      "{'name': 'Default Name', 'street': 'Central Street - 1'}\n"
     ]
    }
   ],
   "source": []
  },
  {
   "cell_type": "markdown",
   "metadata": {},
   "source": [
    "### Creating Instance variables in Multiple functions\n",
    "It’s not that we can create instance variables only inside ``__init__`` function. We can do the same inside any member function of the class.\n",
    "\n",
    "**The only catch is that those instance variables will be created only when the function creating the instance variable is called.**"
   ]
  },
  {
   "cell_type": "code",
   "execution_count": 22,
   "metadata": {},
   "outputs": [
    {
     "name": "stdout",
     "output_type": "stream",
     "text": [
      "{'name': 'Default Name', 'street': 'Central Street - 1'}\n",
      "{'name': 'Default Name', 'street': 'Central Street - 1', 'newMember': 'Temporary Value'}\n"
     ]
    }
   ],
   "source": [
    "class PostalAddress:\n",
    "    def __init__(self, name = \"Default Name\", street = \"Central Street - 1\"):\n",
    "        self.name = name\n",
    "        self.street = street\n",
    "  \n",
    "    def createMember(self):\n",
    "        self.newMember = \"Temporary Value\"\n",
    "\n",
    "cP0 = PostalAddress();\n",
    "print(cP0.__dict__);\n",
    "\n",
    "cP0.createMember();\n",
    "print(cP0.__dict__);"
   ]
  },
  {
   "cell_type": "markdown",
   "metadata": {},
   "source": [
    "### The Class Variables\n",
    "\n",
    "A class variable is one which is declared inside the class, but not inside any method(s) of the class."
   ]
  },
  {
   "cell_type": "code",
   "execution_count": 30,
   "metadata": {},
   "outputs": [
    {
     "name": "stdout",
     "output_type": "stream",
     "text": [
      "12345\n",
      "666666\n"
     ]
    }
   ],
   "source": [
    "class PostalAddress:\n",
    "    \n",
    "    postalCode = 12345;   # class Variable\n",
    "    \n",
    "    def __init__(self, name = \"Default Name\", street = \"Central Street - 1\"):\n",
    "        self.name = name\n",
    "        self.street = street\n",
    "\n",
    "cP0 = PostalAddress()\n",
    "print(cP0.postalCode)\n",
    "\n",
    "cP0.postalCode = 666666\n",
    "print(cP0.postalCode)"
   ]
  },
  {
   "cell_type": "markdown",
   "metadata": {},
   "source": [
    "**class variables** and **instance variables**\n",
    "Class Variables are defined as part of the class and not of the instance"
   ]
  },
  {
   "cell_type": "code",
   "execution_count": 40,
   "metadata": {},
   "outputs": [
    {
     "name": "stdout",
     "output_type": "stream",
     "text": [
      "{'name': 'Default Name', 'street': 'Central Street - 1'}\n",
      "{'__module__': '__main__', 'postalCode': 12345, '__init__': <function PostalAddress.__init__ at 0x7ff3a006e7b8>, '__dict__': <attribute '__dict__' of 'PostalAddress' objects>, '__weakref__': <attribute '__weakref__' of 'PostalAddress' objects>, '__doc__': None}\n",
      "\n",
      "Perceba que o objeto instanciado nao possui postalCode, enquanto a classe tem\n"
     ]
    }
   ],
   "source": [
    "class PostalAddress:\n",
    "    \n",
    "    postalCode = 12345;   # class Variable\n",
    "    \n",
    "    def __init__(self, name = \"Default Name\", street = \"Central Street - 1\"):\n",
    "        self.name = name\n",
    "        self.street = street\n",
    "\n",
    "cP0 = PostalAddress()\n",
    "print(cP0.__dict__)\n",
    "print(PostalAddress.__dict__)\n",
    "print()\n",
    "print('Perceba que o objeto instanciado nao possui postalCode, enquanto a classe tem')"
   ]
  },
  {
   "cell_type": "markdown",
   "metadata": {},
   "source": [
    "We can see class variable are pretty volatible because after you change the class variable value, all other previously instanced objects will change together.\n",
    "There are two ways to change class variable values"
   ]
  },
  {
   "cell_type": "markdown",
   "metadata": {},
   "source": [
    "#### 1 - Manual"
   ]
  },
  {
   "cell_type": "code",
   "execution_count": 43,
   "metadata": {},
   "outputs": [
    {
     "name": "stdout",
     "output_type": "stream",
     "text": [
      "54321\n",
      "54321\n",
      "54321\n"
     ]
    }
   ],
   "source": [
    "# Instance created Before\n",
    "cP0 = PostalAddress()\n",
    "cP1 = PostalAddress()\n",
    "\n",
    "PostalAddress.postalCode = 54321\n",
    "# Instance created after change\n",
    "cP2 = PostalAddress()\n",
    "\n",
    "print(cP0.postalCode)   # prints 54321\n",
    "print(cP1.postalCode)   # prints 54321\n",
    "print(cP2.postalCode)   # prints 54321"
   ]
  },
  {
   "cell_type": "markdown",
   "metadata": {},
   "source": [
    "#### 2 - Calling a @classmethod\n",
    "Special method which takes class as parameter instead of instance i.e. self . While defining class method, we need to explicitly tell python that the method is a class method using the keyword @classmethod"
   ]
  },
  {
   "cell_type": "code",
   "execution_count": 46,
   "metadata": {},
   "outputs": [],
   "source": [
    "class PostalAddress:\n",
    "    postalCode = 12345;   # class Variable\n",
    "    def __init__(self, name = \"Default Name\", street = \"Central Street - 1\"):\n",
    "        self.name = name\n",
    "        self.street = street\n",
    "\n",
    "    @classmethod\n",
    "    def newPostalCode(cls, newcode):\n",
    "        cls.postalCode = newcode"
   ]
  },
  {
   "cell_type": "markdown",
   "metadata": {},
   "source": [
    "Instance methods take self as mandatory parameter, while Class methods take class as mandatory parameter.\n",
    "\n",
    "In both the cases, we don’t need to pass Instance or Class explicitly, python automatically takes care of it."
   ]
  }
 ],
 "metadata": {
  "kernelspec": {
   "display_name": "Python 3",
   "language": "python",
   "name": "python3"
  },
  "language_info": {
   "codemirror_mode": {
    "name": "ipython",
    "version": 3
   },
   "file_extension": ".py",
   "mimetype": "text/x-python",
   "name": "python",
   "nbconvert_exporter": "python",
   "pygments_lexer": "ipython3",
   "version": "3.6.5"
  }
 },
 "nbformat": 4,
 "nbformat_minor": 2
}
