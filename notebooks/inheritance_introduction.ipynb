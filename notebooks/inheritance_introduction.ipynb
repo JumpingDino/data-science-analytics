{
 "cells": [
  {
   "cell_type": "code",
   "execution_count": 6,
   "metadata": {},
   "outputs": [],
   "source": [
    "class Person:\n",
    "\n",
    "    # defining constructor\n",
    "    def __init__(self, person_name, person_age):\n",
    "        self.name = person_name\n",
    "        self.age = person_age\n",
    "\n",
    "        # defining class methods\n",
    "\n",
    "    def show_name(self):\n",
    "        print(self.name)\n",
    "\n",
    "    def show_age(self):\n",
    "        print(self.age)"
   ]
  },
  {
   "cell_type": "code",
   "execution_count": 23,
   "metadata": {},
   "outputs": [
    {
     "name": "stdout",
     "output_type": "stream",
     "text": [
      "25\n",
      "82\n",
      "Saraiva\n",
      "Jose\n"
     ]
    }
   ],
   "source": [
    "eu = Person('Saraiva',25)\n",
    "pai = Person('Jose',82)\n",
    "\n",
    "#Olhando os atributos\n",
    "eu.age \n",
    "pai.age\n",
    "\n",
    "eu.name\n",
    "pai.name\n",
    "\n",
    "#Olhando idade e nome pelos métodos\n",
    "eu.show_age()\n",
    "pai.show_age()\n",
    "\n",
    "eu.show_name()\n",
    "pai.show_name()"
   ]
  },
  {
   "cell_type": "code",
   "execution_count": 38,
   "metadata": {},
   "outputs": [],
   "source": [
    "from sklearn.tree import DecisionTreeRegressor\n",
    "\n",
    "class SaraivinhaTree(DecisionTreeRegressor):\n",
    "    \n",
    "    def __init__(self):\n",
    "        DecisionTreeRegressor.__init__(self)\n",
    "        \n",
    "st = SaraivinhaTree()\n",
    "\n",
    "dt = DecisionTreeRegressor\n"
   ]
  },
  {
   "cell_type": "code",
   "execution_count": 74,
   "metadata": {},
   "outputs": [],
   "source": [
    "# definition of subclass starts here\n",
    "class Student(Person):\n",
    "\n",
    "    def __init__(self,student_id,person_name,person_age):\n",
    "        Person.__init__(self,person_name,person_age)\n",
    "        self.studentId = student_id\n",
    "\n",
    "    def get_id(self):\n",
    "        return self.studentId  # returns the value of student id"
   ]
  },
  {
   "cell_type": "code",
   "execution_count": 76,
   "metadata": {},
   "outputs": [
    {
     "data": {
      "text/plain": [
       "11"
      ]
     },
     "execution_count": 76,
     "metadata": {},
     "output_type": "execute_result"
    }
   ],
   "source": [
    "eu = Student('zzz','Saraiva',11)\n",
    "eu.age"
   ]
  },
  {
   "cell_type": "code",
   "execution_count": 77,
   "metadata": {},
   "outputs": [],
   "source": [
    "# definition of subclass starts here\n",
    "class Student(Person):\n",
    "\n",
    "    def __init__(self, student_name, student_age, student_id):\n",
    "        Person.__init__(self, student_name, student_age)\n",
    "        self.studentId = student_id\n",
    "\n",
    "    def get_id(self):\n",
    "        return self.studentId  # returns the value of student id"
   ]
  },
  {
   "cell_type": "markdown",
   "metadata": {},
   "source": [
    "We call our parent function as :\n",
    "```\n",
    "Person.__init__(self,student_name,student_age)\n",
    "``` \n",
    "We could replace with super as :\n",
    "```\n",
    "super().__init__(student_name,student_age)\n",
    "```     "
   ]
  },
  {
   "cell_type": "code",
   "execution_count": 3,
   "metadata": {},
   "outputs": [
    {
     "name": "stdout",
     "output_type": "stream",
     "text": [
      "23\n",
      "102\n",
      "Max\n"
     ]
    }
   ],
   "source": [
    "# Create an object of the superclass\n",
    "person1 = Person(\"Richard\", 23)\n",
    "# call member methods of the objects\n",
    "person1.show_age()\n",
    "# Create an object of the subclass\n",
    "student1 = Student(\"Max\", 22, \"102\")\n",
    "print(student1.get_id())\n",
    "student1.show_name()"
   ]
  },
  {
   "cell_type": "markdown",
   "metadata": {},
   "source": [
    "Exemplo de aplicação do super() em aplicação com  Multilevel Inheritence\n",
    "\n",
    "    But in the case of multi-level inheritances which class will it refer? Well, Python super() will always refer the immediate superclass.\n",
    "\n",
    "    But in the case of multi-level inheritances which class will it refer? Well, Python super() will always refer the immediate superclass."
   ]
  },
  {
   "cell_type": "code",
   "execution_count": 5,
   "metadata": {},
   "outputs": [
    {
     "name": "stdout",
     "output_type": "stream",
     "text": [
      "Initializing: class C\n",
      "Initializing: class B\n",
      "Initializing: class A\n",
      "Printing from class C: 1\n",
      "Printing from class B: 2\n",
      "Printing from class A: 3\n"
     ]
    }
   ],
   "source": [
    "class A:\n",
    "    def __init__(self):\n",
    "        print('Initializing: class A')\n",
    "\n",
    "    def sub_method(self, b):\n",
    "        print('Printing from class A:', b)\n",
    "\n",
    "\n",
    "class B(A):\n",
    "    def __init__(self):\n",
    "        print('Initializing: class B')\n",
    "        super().__init__()\n",
    "\n",
    "    def sub_method(self, b):\n",
    "        print('Printing from class B:', b)\n",
    "        super().sub_method(b + 1)\n",
    "\n",
    "\n",
    "class C(B):\n",
    "    def __init__(self):\n",
    "        print('Initializing: class C')\n",
    "        super().__init__()\n",
    "\n",
    "    def sub_method(self, b):\n",
    "        print('Printing from class C:', b)\n",
    "        super().sub_method(b + 1)\n",
    "\n",
    "\n",
    "if __name__ == '__main__':\n",
    "    c = C()\n",
    "    c.sub_method(1)"
   ]
  }
 ],
 "metadata": {
  "kernelspec": {
   "display_name": "Python 3",
   "language": "python",
   "name": "python3"
  },
  "language_info": {
   "codemirror_mode": {
    "name": "ipython",
    "version": 3
   },
   "file_extension": ".py",
   "mimetype": "text/x-python",
   "name": "python",
   "nbconvert_exporter": "python",
   "pygments_lexer": "ipython3",
   "version": "3.6.5"
  }
 },
 "nbformat": 4,
 "nbformat_minor": 2
}
